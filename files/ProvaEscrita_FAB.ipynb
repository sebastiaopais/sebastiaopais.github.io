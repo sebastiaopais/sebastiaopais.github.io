{
  "cells": [
    {
      "cell_type": "markdown",
      "metadata": {
        "id": "mtWoMppPjwIt"
      },
      "source": [
        "# **Universidade da Beira Interior**\n",
        "\n",
        "# **1º Ciclo Biotecnologia - Ferramentas e Aplicações em Biotecnologia**\n",
        "\n",
        "**Prova de Avaliação - 17/11/2022**\n",
        "\n",
        "**Dados do Aluno:**\n",
        "\n",
        "> Numero:\n",
        "\n",
        "> Nome:\n",
        "\n",
        "* Esta prova é para avaliação de conhecimentos da linguagem de programação Python;\n",
        "* Boa Sorte!!!\n",
        "\n"
      ]
    },
    {
      "cell_type": "markdown",
      "source": [
        "# Grupo I"
      ],
      "metadata": {
        "id": "oS0wIlsL2IOy"
      }
    },
    {
      "cell_type": "markdown",
      "metadata": {
        "id": "hIoYroJz0SS7"
      },
      "source": [
        "A. Faça um programa que mostre a mensagem \"Olá Mundo\"no ecrã."
      ]
    },
    {
      "cell_type": "code",
      "source": [],
      "metadata": {
        "id": "r-xFg-xK2alp"
      },
      "execution_count": null,
      "outputs": []
    },
    {
      "cell_type": "markdown",
      "source": [
        "C. Faça um programa que peça dois números e imprima a soma."
      ],
      "metadata": {
        "id": "6frNOoeY2efI"
      }
    },
    {
      "cell_type": "code",
      "source": [],
      "metadata": {
        "id": "NmyeBUKk2nZO",
        "colab": {
          "base_uri": "https://localhost:8080/"
        },
        "outputId": "527e274a-8549-4a4d-9928-d1a03ea2f52d"
      },
      "execution_count": null,
      "outputs": [
        {
          "output_type": "stream",
          "name": "stdout",
          "text": [
            "8\n"
          ]
        }
      ]
    },
    {
      "cell_type": "markdown",
      "source": [
        "# Grupo II"
      ],
      "metadata": {
        "id": "e0ezi7592vgO"
      }
    },
    {
      "cell_type": "markdown",
      "source": [
        "A. Faça um programa que peça dois números e imprima o maior deles."
      ],
      "metadata": {
        "id": "yEniGEcu27On"
      }
    },
    {
      "cell_type": "code",
      "source": [],
      "metadata": {
        "id": "HS_yXrMO262V"
      },
      "execution_count": null,
      "outputs": []
    }
  ],
  "metadata": {
    "colab": {
      "provenance": []
    },
    "kernelspec": {
      "display_name": "Python 3",
      "name": "python3"
    },
    "language_info": {
      "name": "python"
    }
  },
  "nbformat": 4,
  "nbformat_minor": 0
}