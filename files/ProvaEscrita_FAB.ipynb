{
  "cells": [
    {
      "cell_type": "markdown",
      "metadata": {
        "id": "mtWoMppPjwIt"
      },
      "source": [
        "# **Universidade da Beira Interior**\n",
        "\n",
        "# **1º Ciclo Biotecnologia - Ferramentas e Aplicações em Biotecnologia**\n",
        "\n",
        "**Prova de Avaliação - 17/11/2022**\n",
        "\n",
        "**Dados do Aluno:**\n",
        "\n",
        "> Numero: \n",
        "\n",
        "> Nome:\n",
        "\n",
        "* Esta prova é para avaliação de conhecimentos da linguagem de programação Python;\n",
        "* O aluno apenas responde a 16 perguntas;\n",
        "* Cada pergunta tem uma cotação de 1,25 valores em 20;\n",
        "* Boa Sorte!!!\n",
        "\n"
      ]
    },
    {
      "cell_type": "markdown",
      "metadata": {
        "id": "hIoYroJz0SS7"
      },
      "source": [
        "A. Escreva um programa que leia a quantidade de dias, horas, minutos e segundos introduzido pelo utilizador. Calcule o total em segundos."
      ]
    },
    {
      "cell_type": "code",
      "source": [],
      "metadata": {
        "id": "r-xFg-xK2alp"
      },
      "execution_count": null,
      "outputs": []
    },
    {
      "cell_type": "markdown",
      "source": [
        "B. Faça um programa para a leitura de duas notas de um aluno. O programa deve calcular a média alcançada por aluno e apresentar:\n",
        "* A mensagem \"Aprovado\", se a média alcançada for maior ou igual a 9,5;\n",
        "* A mensagem \"Reprovado\", se a média for menor do que 9,5;\n",
        "* A mensagem \"Aprovado com Distinção\", se a média for maior que 18."
      ],
      "metadata": {
        "id": "6frNOoeY2efI"
      }
    },
    {
      "cell_type": "code",
      "source": [],
      "metadata": {
        "id": "NmyeBUKk2nZO"
      },
      "execution_count": null,
      "outputs": []
    },
    {
      "cell_type": "markdown",
      "source": [
        "C. Faça um programa que peça três números diferentes e imprima o maior deles."
      ],
      "metadata": {
        "id": "yEniGEcu27On"
      }
    },
    {
      "cell_type": "code",
      "source": [],
      "metadata": {
        "id": "HS_yXrMO262V"
      },
      "execution_count": null,
      "outputs": []
    },
    {
      "cell_type": "markdown",
      "source": [
        "D. Faça um programa que leia um valor inteiro e mostre a tabuada de 1 a 10 do valor lido."
      ],
      "metadata": {
        "id": "NWSFfmWS5qVs"
      }
    },
    {
      "cell_type": "code",
      "source": [],
      "metadata": {
        "id": "m-Gher0d5war"
      },
      "execution_count": null,
      "outputs": []
    },
    {
      "cell_type": "markdown",
      "source": [
        "E. Faça um programa que receba duas notas e calcule a média aritmética e mostre o resultado."
      ],
      "metadata": {
        "id": "IQDE-W1G5xZi"
      }
    },
    {
      "cell_type": "code",
      "source": [],
      "metadata": {
        "id": "I7juUGng56Jn"
      },
      "execution_count": null,
      "outputs": []
    },
    {
      "cell_type": "markdown",
      "source": [
        "F. Escreva um programa que mostre todos os números entre 5 e 100 que são divisíveis por 7, mas não são múltiplos de 5. Os números obtidos devem ser impressos em sequência."
      ],
      "metadata": {
        "id": "_wJwfYnO57GY"
      }
    },
    {
      "cell_type": "code",
      "source": [],
      "metadata": {
        "id": "jRuLnkcj6IXD"
      },
      "execution_count": null,
      "outputs": []
    },
    {
      "cell_type": "markdown",
      "source": [
        "G. Faça um programa que receba um número digitado pelo utilizador e calcule a soma de todos os números de 1 até ao número digitado. Por exemplo, se o usuário digitou o número 4, a saída deve ser 10 (1+2+3+4)."
      ],
      "metadata": {
        "id": "B58GCVU06JHM"
      }
    },
    {
      "cell_type": "code",
      "source": [],
      "metadata": {
        "id": "t-CbLzHk-5KD"
      },
      "execution_count": null,
      "outputs": []
    },
    {
      "cell_type": "markdown",
      "source": [
        "H. Faça um programa que recebendo um valor inteiro, informe se o número é positivo ou negativo."
      ],
      "metadata": {
        "id": "t_WJ4_9N-5pm"
      }
    },
    {
      "cell_type": "code",
      "source": [],
      "metadata": {
        "id": "f1c7IwiL-_-1"
      },
      "execution_count": null,
      "outputs": []
    },
    {
      "cell_type": "markdown",
      "source": [
        "I. Crie um programa que receba um número, conte o número total de dígitos e mostre o resultado. Por exemplo, se o número é 2022 , então a saída deve ser 4."
      ],
      "metadata": {
        "id": "nvXPWc90_AVw"
      }
    },
    {
      "cell_type": "code",
      "source": [],
      "metadata": {
        "id": "QZASOv-Y_O9W"
      },
      "execution_count": null,
      "outputs": []
    },
    {
      "cell_type": "markdown",
      "source": [
        "J. Escreva um programa para calcular a redução do tempo de vida de um fumante. Pergunte a quantidade de cigarros fumados por dia e quantos anos ele já fumou. Considere que um fumante perde 10 minutos de vida a cada cigarro, calcule quantos dias de vida um fumante perderá. Exiba o total de dias."
      ],
      "metadata": {
        "id": "db5B-LX0_Od0"
      }
    },
    {
      "cell_type": "code",
      "source": [],
      "metadata": {
        "id": "AjQXYrmw_s-0"
      },
      "execution_count": null,
      "outputs": []
    },
    {
      "cell_type": "markdown",
      "source": [
        "K. Escreva um programa que pergunte a quantidade de km percorridos por um carro alugado pelo utilizador, assim como a quantidade de dias pelos quais o carro foi alugado. Calcule o preço a pagar, sabendo que o carro custa 60,00€ por dia e 0,15€ por km rodado."
      ],
      "metadata": {
        "id": "0Uz1tiyb_2wR"
      }
    },
    {
      "cell_type": "code",
      "source": [],
      "metadata": {
        "id": "9x7zdMgYACl3"
      },
      "execution_count": null,
      "outputs": []
    },
    {
      "cell_type": "markdown",
      "source": [
        "L. Calcule o tempo de uma viagem de carro. Pergunte a distância a percorrer e a velocidade média esperada para a viagem."
      ],
      "metadata": {
        "id": "QCCR7JZBARPc"
      }
    },
    {
      "cell_type": "code",
      "source": [],
      "metadata": {
        "id": "NeKCh_hLATk0"
      },
      "execution_count": null,
      "outputs": []
    },
    {
      "cell_type": "markdown",
      "source": [
        "M. Faça um programa que calcule o aumento de um salário. Ele deve solicitar o valor do salário e a porcentagem do aumento. Exiba o valor do aumento e do novo salário."
      ],
      "metadata": {
        "id": "wCA8WPfKAUUA"
      }
    },
    {
      "cell_type": "code",
      "source": [],
      "metadata": {
        "id": "MGFCfyuSAZt0"
      },
      "execution_count": null,
      "outputs": []
    },
    {
      "cell_type": "markdown",
      "source": [
        "N. Faça um Programa que leia uma lista de 5 números inteiros, mostre a soma, a multiplicação e os números."
      ],
      "metadata": {
        "id": "k8UolBoACNVc"
      }
    },
    {
      "cell_type": "code",
      "source": [],
      "metadata": {
        "id": "hqCTjC0tCR1a"
      },
      "execution_count": null,
      "outputs": []
    },
    {
      "cell_type": "markdown",
      "source": [
        "O. Desenvolva um programa que apresente a soma dos valores pares e dos valores ímpares da sequência ([21, 5, 34, 8, 16, 7, 3])"
      ],
      "metadata": {
        "id": "eFmXMz1J3b6_"
      }
    },
    {
      "cell_type": "code",
      "source": [],
      "metadata": {
        "id": "SuXOreLG3iA5"
      },
      "execution_count": null,
      "outputs": []
    },
    {
      "cell_type": "markdown",
      "source": [
        "P. Desenvolva um programa que apresente o maior e o menor valores da sequência ([54, 10, 29, 87, 7, 64])"
      ],
      "metadata": {
        "id": "Stc_eiHy3m-z"
      }
    },
    {
      "cell_type": "code",
      "source": [],
      "metadata": {
        "id": "7Aug7DL-3pTE"
      },
      "execution_count": null,
      "outputs": []
    },
    {
      "cell_type": "markdown",
      "source": [
        "Q. Desenvolva uma calculadora rudimentar onde o utilizador deve informar: qual a operação ele deseja realizar, quais os valores para a realização do cálculo (apenas dois valores) e de seguida é efetuada a operação e apresentado o resultado."
      ],
      "metadata": {
        "id": "lJUMvuOz_1_6"
      }
    },
    {
      "cell_type": "code",
      "source": [],
      "metadata": {
        "id": "Gnh95UkrAJwI"
      },
      "execution_count": null,
      "outputs": []
    },
    {
      "cell_type": "markdown",
      "source": [
        "R. Faça um programa que converta metros para centímetros."
      ],
      "metadata": {
        "id": "z2_s0--fBJIm"
      }
    },
    {
      "cell_type": "code",
      "source": [],
      "metadata": {
        "id": "8SxisqoaBNCg"
      },
      "execution_count": null,
      "outputs": []
    },
    {
      "cell_type": "markdown",
      "source": [
        "S. Faça um programa que calcule a área e o perimetro de um quadrado."
      ],
      "metadata": {
        "id": "QnhCkxlqBMCv"
      }
    },
    {
      "cell_type": "code",
      "source": [],
      "metadata": {
        "id": "GDD2N5IHBNcB"
      },
      "execution_count": null,
      "outputs": []
    },
    {
      "cell_type": "markdown",
      "source": [
        "T. Faça um programa que peça a temperatura em graus Fahrenheit, transforme e mostre a temperatura em graus Celsius (C = 5 * ((F-32) / 9))."
      ],
      "metadata": {
        "id": "8J3ulHtrBN2p"
      }
    },
    {
      "cell_type": "code",
      "source": [],
      "metadata": {
        "id": "DJa08tkeBOMq"
      },
      "execution_count": null,
      "outputs": []
    }
  ],
  "metadata": {
    "colab": {
      "provenance": [],
      "toc_visible": true
    },
    "kernelspec": {
      "display_name": "Python 3",
      "name": "python3"
    },
    "language_info": {
      "name": "python"
    }
  },
  "nbformat": 4,
  "nbformat_minor": 0
}